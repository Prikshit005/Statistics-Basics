{
  "nbformat": 4,
  "nbformat_minor": 0,
  "metadata": {
    "colab": {
      "provenance": []
    },
    "kernelspec": {
      "name": "python3",
      "display_name": "Python 3"
    },
    "language_info": {
      "name": "python"
    }
  },
  "cells": [
    {
      "cell_type": "markdown",
      "source": [
        "#Statistics Basics\n",
        "\n"
      ],
      "metadata": {
        "id": "hKueVscHHgHt"
      }
    },
    {
      "cell_type": "markdown",
      "source": [
        "**1.What is statistics, and why is it important?**\n",
        "- Statistics is the study of collecting, organizing, and analyzing data to help us understand and make decisions based on information. It is important because it helps us make sense of large amounts of data, find patterns, and make predictions. Whether in business, health, education, or daily life, statistics helps people make informed choices by using facts and evidence rather than guesses or opinions."
      ],
      "metadata": {
        "id": "T1j9antUHkOm"
      }
    },
    {
      "cell_type": "markdown",
      "source": [
        "**2.What are the two main types of statistics?**\n",
        "- The two main types of statistics are descriptive statistics and inferential statistics. Descriptive statistics help us summarize and describe the main features of a set of data, such as the average, the highest and lowest values, or how spread out the numbers are. Inferential statistics, on the other hand, help us make guesses or predictions about a larger group based on a smaller sample of data. For example, we might survey a small group of people and use inferential statistics to estimate what the whole population thinks."
      ],
      "metadata": {
        "id": "L7FtHwMAH-CZ"
      }
    },
    {
      "cell_type": "markdown",
      "source": [
        "**3.What are descriptive statistics?**\n",
        "- Descriptive statistics are tools used to summarize and describe the main features of a set of data. They help us understand what the data looks like by showing things like the average (mean), the middle value (median), the most common value (mode), and how spread out the numbers are (range or standard deviation). Charts, graphs, and tables are also part of descriptive statistics because they make the data easier to see and understand. In short, descriptive statistics help us quickly get a clear picture of what the data is showing."
      ],
      "metadata": {
        "id": "EG3rrblRIYQe"
      }
    },
    {
      "cell_type": "markdown",
      "source": [
        "**4.What is inferential statistics?**\n",
        "- Inferential statistics is a way of using a small amount of data to make guesses or predictions about a larger group. Instead of collecting information from everyone, we study a sample and then use that information to draw conclusions about the whole population. It helps us make decisions or test ideas when it's not possible to collect data from everyone. For example, by surveying a few hundred people, we can estimate how millions might vote in an election. Inferential statistics helps us make smart guesses based on limited data."
      ],
      "metadata": {
        "id": "ej5zsw6DIpaP"
      }
    },
    {
      "cell_type": "markdown",
      "source": [
        "**5.What is sampling in statistics?**\n",
        "- Sampling in statistics is the process of selecting a small group of people or items (called a sample) from a larger group (called a population) to study. Instead of collecting data from everyone, which can be time-consuming and expensive, we collect data from just a part of the group. If the sample is chosen well, it can give us a good idea of what the whole population is like. Sampling helps save time and resources while still allowing us to make useful conclusions."
      ],
      "metadata": {
        "id": "xRyw4WO1JFaN"
      }
    },
    {
      "cell_type": "markdown",
      "source": [
        "**6.What are the different types of sampling methods?**\n",
        "- There are several types of sampling methods used to choose a sample from a population. The main ones are random sampling, where everyone has an equal chance of being selected; systematic sampling, where every nth person is chosen from a list; stratified sampling, where the population is divided into groups (like age or gender), and samples are taken from each group; and cluster sampling, where the population is divided into clusters (like schools or neighborhoods), and entire clusters are randomly selected. Each method has its own use, depending on the situation and the type of data needed."
      ],
      "metadata": {
        "id": "gHvpoMKyJYUl"
      }
    },
    {
      "cell_type": "markdown",
      "source": [
        "**7.What is the difference between random and non-random sampling?**\n",
        "- The difference between random and non-random sampling lies in how the sample is selected:\n",
        "\n",
        " -  **Random sampling** means that every person or item in the population has an equal chance of being chosen. This helps reduce bias and makes the results more likely to represent the whole population. An example is picking names out of a hat.\n",
        "\n",
        " -  **Non-random sampling** means that the sample is chosen using personal judgment or convenience, not by chance. This can lead to biased results because not everyone has the same chance of being selected. An example is asking only our friends for their opinion.\n",
        "\n",
        "  In short, random sampling is fair and more reliable, while non-random sampling is quicker but may not be as accurate."
      ],
      "metadata": {
        "id": "GxymVfgjJnFk"
      }
    },
    {
      "cell_type": "markdown",
      "source": [
        "**8. Define and give examples of qualitative and quantitative data?**\n",
        "- **Qualitative data** is information that describes qualities or characteristics and cannot be measured with numbers. It deals with descriptions and categories. For example, eye color (blue, green, brown), types of fruits (apple, banana, mango), or opinions (happy, satisfied, sad) are all qualitative data.\n",
        "\n",
        "- **Quantitative data** is information that can be measured and written down using numbers. It deals with amounts and quantities. For example, height (160 cm), age (25 years), number of books (10), or test scores (85 out of 100) are all quantitative data.\n",
        "\n",
        "In short, qualitative = words or categories, and quantitative = numbers or amounts."
      ],
      "metadata": {
        "id": "0TkBPvj0KBCt"
      }
    },
    {
      "cell_type": "markdown",
      "source": [
        "**9. What are the different types of data in statistics?**\n",
        "- In statistics, data can be divided into two main types: qualitative and quantitative. Qualitative data describes qualities or categories, like colors, names, or feelings, and it tells us what something is. Quantitative data deals with numbers and measurements, like height, weight, or how many items there are. Quantitative data can be either whole numbers, like the number of books (discrete), or any value in a range, like a person’s height (continuous). Knowing these types helps us understand and work with data better."
      ],
      "metadata": {
        "id": "xikMVIdvK19V"
      }
    },
    {
      "cell_type": "markdown",
      "source": [
        "**10. Explain nominal, ordinal, interval, and ratio levels of measurement?**\n",
        "- The four levels of measurement in statistics are ways to classify different types of data. Nominal level is the simplest and groups data into categories without any order, like colors or types of animals. Ordinal level puts data into categories that have a specific order or ranking, like class grades (A, B, C) or survey ratings (good, better, best), but the differences between ranks aren’t exact. Interval level has ordered data with equal spaces between values, like temperature in Celsius, but it doesn’t have a true zero point. Finally, ratio level is like interval data but with a real zero point, meaning zero means none, like weight or height, so we can say something is twice as much as something else. These levels help us decide what kind of math or analysis we can use with the data."
      ],
      "metadata": {
        "id": "lyqo15czLMKu"
      }
    },
    {
      "cell_type": "markdown",
      "source": [
        "**11. What is the measure of central tendency?**\n",
        "- The measure of central tendency is a way to find the “middle” or typical value of a set of data. It helps us understand what a normal or average value looks like in a group of numbers. The most common measures are the mean (average), the median (middle value when the numbers are arranged in order), and the mode (the value that appears most often). These measures give us a simple summary of the data and help us compare different sets of information easily."
      ],
      "metadata": {
        "id": "EpbNmL3RLkjP"
      }
    },
    {
      "cell_type": "markdown",
      "source": [
        "**12. Define mean, median, and mode?**\n",
        "- Mean, median, and mode are three ways to find the central value in a set of data. The **mean** is the average—we can add all the numbers together and then divide by how many numbers there are. The **median** is the middle number when all the numbers are arranged in order from smallest to largest. If there’s an even number of values, the median is the average of the two middle ones. The **mode** is the number that appears most often in the data. Each of these helps us understand the typical value in different ways."
      ],
      "metadata": {
        "id": "88jycDUKM05j"
      }
    },
    {
      "cell_type": "markdown",
      "source": [
        "**13.What is the significance of the measure of central tendency?**\n",
        "- The measure of central tendency is important because it helps us understand the most typical or average value in a set of data. This makes it easier to summarize large amounts of information and see what is common or normal. Whether in school, business, or everyday life, knowing the central value helps us make better decisions, compare groups, and understand trends quickly without looking at every single detail."
      ],
      "metadata": {
        "id": "ea2wFTAuNFjx"
      }
    },
    {
      "cell_type": "markdown",
      "source": [
        "**14.  What is variance, and how is it calculated?**\n",
        "- Variance is a number that shows how much the values in a set of data are spread out from the average. To calculate it, first we have to find the average (mean) of the data. Then, we can see how far each value is from the average and square those differences. After that, we can find the average of all those squared differences. This final number is the variance, and it helps us understand if the data values are close together or very different from each other."
      ],
      "metadata": {
        "id": "UL3DhG93PwtI"
      }
    },
    {
      "cell_type": "markdown",
      "source": [
        "**15.What is standard deviation, and why is it important?**\n",
        "- Standard deviation is a number that tells us how spread out the values in a set of data are around the average. It is like the average amount that the data points differ from the mean. Standard deviation is important because it helps us understand how much the data varies—whether the values are mostly close to the average or if they are more spread out. This helps us see how consistent or reliable the data is."
      ],
      "metadata": {
        "id": "fA6P2n2MQAVf"
      }
    },
    {
      "cell_type": "markdown",
      "source": [
        "**16.Define and explain the term range in statistics?**\n",
        "- In statistics, the range is the simplest way to show how spread out the data is. It is the difference between the largest value and the smallest value in a set of numbers. To find the range, we have to subtract the smallest number from the biggest number. The range helps us understand the spread or spread of the data, showing the overall gap between the lowest and highest values."
      ],
      "metadata": {
        "id": "tqGvHVGkQNwE"
      }
    },
    {
      "cell_type": "markdown",
      "source": [
        "**17. What is the difference between variance and standard deviation?**\n",
        "- The difference between variance and standard deviation is that variance shows how spread out the data is by averaging the squared differences from the mean, while standard deviation is the square root of the variance and shows the spread in the same units as the original data. In simple terms, variance gives a measure of spread in squared units, which can be hard to understand, and standard deviation makes it easier to see how much the data varies by putting it back into normal units."
      ],
      "metadata": {
        "id": "WFo8KKDTQ8PE"
      }
    },
    {
      "cell_type": "markdown",
      "source": [
        "**18.What is skewness in a dataset?**\n",
        "- Skewness in a dataset shows whether the data is spread out more to one side than the other. If the data leans or stretches more to the right, it is called right-skewed or positively skewed. If it stretches more to the left, it is called left-skewed or negatively skewed. Skewness helps us understand if the data is balanced or if there are more values on one side, which can affect how we interpret the data."
      ],
      "metadata": {
        "id": "1LrYjmvQRLsg"
      }
    },
    {
      "cell_type": "markdown",
      "source": [
        "**19.What does it mean if a dataset is positively or negatively skewed?**\n",
        "- If a dataset is positively skewed, it means most of the values are clustered on the left side, but there are some unusually large values stretching out to the right. This makes the tail of the data longer on the right side. If a dataset is negatively skewed, it means most values are on the right side, but there are some smaller values stretching out to the left, making the tail longer on the left side. Skewness tells us about the shape of the data and if it leans more to one side."
      ],
      "metadata": {
        "id": "kHWkr9LcRXQ2"
      }
    },
    {
      "cell_type": "markdown",
      "source": [
        "**20. Define and explain kurtosis?**\n",
        "- Kurtosis is a measure that tells us about the shape of a dataset’s distribution, specifically how heavy or light the tails are compared to a normal distribution. It shows whether the data has more extreme values (outliers) than usual. If a dataset has high kurtosis, it means there are more values far from the average, with heavy tails and sharp peaks. If it has low kurtosis, the data is more evenly spread with lighter tails and a flatter peak. Kurtosis helps us understand the risk of extreme events in the data."
      ],
      "metadata": {
        "id": "nD1yCKQxRjqR"
      }
    },
    {
      "cell_type": "markdown",
      "source": [
        "**21. What is the purpose of covariance?**\n",
        "- Covariance is a number that shows how two different things change together. If one thing goes up when the other goes up, the covariance is positive. If one goes up while the other goes down, the covariance is negative. If there’s no clear pattern, the covariance is close to zero. Covariance helps us understand the relationship between two sets of data and whether they move together or in opposite directions."
      ],
      "metadata": {
        "id": "fojfF6vJRuZB"
      }
    },
    {
      "cell_type": "markdown",
      "source": [
        "**22. What does correlation measure in statistics?**\n",
        "- Correlation measures how strong and in what direction two things are related to each other. It tells us if one thing tends to go up when the other goes up (positive correlation), goes down when the other goes up (negative correlation), or if they don’t really affect each other (no correlation). Correlation helps us understand the connection between variables and how closely they move together."
      ],
      "metadata": {
        "id": "jfWeGeHMR9Yu"
      }
    },
    {
      "cell_type": "markdown",
      "source": [
        "**23.What is the difference between covariance and correlation?**\n",
        "- The difference between covariance and correlation is that covariance shows how two variables change together but doesn’t tell us how strong or easy to compare that relationship is. Correlation, on the other hand, measures both the strength and direction of the relationship and always gives a value between -1 and 1, making it easier to understand and compare. In simple terms, correlation is a standardized version of covariance."
      ],
      "metadata": {
        "id": "H7PGELs2SIK1"
      }
    },
    {
      "cell_type": "markdown",
      "source": [
        "**24. What are some real-world applications of statistics?**\n",
        "- Statistics is used everywhere in real life! For example, doctors use it to study how well treatments work and to understand health risks. Businesses use statistics to decide what products to sell and how to improve customer satisfaction. Governments rely on statistics to plan things like education, transportation, and public safety. Sports teams use statistics to analyze players’ performance and develop strategies. Even in everyday life, people use statistics to compare prices, understand polls, or track personal goals like fitness progress. It helps us make better decisions based on real data."
      ],
      "metadata": {
        "id": "g_AOPwK-SXkp"
      }
    },
    {
      "cell_type": "markdown",
      "source": [
        "# Practical Questions"
      ],
      "metadata": {
        "id": "UXqXw7wMShRY"
      }
    },
    {
      "cell_type": "markdown",
      "source": [
        "**1. How do you calculate the mean, median, and mode of a dataset?**"
      ],
      "metadata": {
        "id": "CXoke_ocStld"
      }
    },
    {
      "cell_type": "code",
      "source": [
        "from statistics import mean, median, mode\n",
        "\n",
        "# Example dataset\n",
        "data = [4, 1, 7, 5, 3, 7, 9, 7, 2]\n",
        "\n",
        "# Calculate mean\n",
        "data_mean = mean(data)\n",
        "\n",
        "# Calculate median\n",
        "data_median = median(data)\n",
        "\n",
        "# Calculate mode\n",
        "data_mode = mode(data)\n",
        "\n",
        "print(f\"Mean: {data_mean}\")\n",
        "print(f\"Median: {data_median}\")\n",
        "print(f\"Mode: {data_mode}\")\n"
      ],
      "metadata": {
        "colab": {
          "base_uri": "https://localhost:8080/"
        },
        "id": "MajmNcaqS_jc",
        "outputId": "90238fda-47d9-490d-9979-7b9c90bcad24"
      },
      "execution_count": 1,
      "outputs": [
        {
          "output_type": "stream",
          "name": "stdout",
          "text": [
            "Mean: 5\n",
            "Median: 5\n",
            "Mode: 7\n"
          ]
        }
      ]
    },
    {
      "cell_type": "markdown",
      "source": [
        "**2. Write a Python program to compute the variance and standard deviation of a dataset!**"
      ],
      "metadata": {
        "id": "X6mtOAidTBPX"
      }
    },
    {
      "cell_type": "code",
      "source": [
        "import statistics\n",
        "\n",
        "data = [4, 1, 7, 5, 3, 7, 9, 7, 2]\n",
        "\n",
        "data_variance = statistics.variance(data)\n",
        "\n",
        "data_std_dev = statistics.stdev(data)\n",
        "\n",
        "print(f\"Variance: {data_variance}\")\n",
        "print(f\"Standard Deviation: {data_std_dev}\")\n"
      ],
      "metadata": {
        "colab": {
          "base_uri": "https://localhost:8080/"
        },
        "id": "ND4jjQIgTLmt",
        "outputId": "6fe3b741-ef15-418c-9dce-08ec7f38c6fb"
      },
      "execution_count": 2,
      "outputs": [
        {
          "output_type": "stream",
          "name": "stdout",
          "text": [
            "Variance: 7.25\n",
            "Standard Deviation: 2.692582403567252\n"
          ]
        }
      ]
    },
    {
      "cell_type": "markdown",
      "source": [
        "**3. Create a dataset and classify it into nominal, ordinal, interval, and ratio types.**"
      ],
      "metadata": {
        "id": "X_tCTd7vTUv1"
      }
    },
    {
      "cell_type": "code",
      "source": [
        "\n",
        "dataset = [\n",
        "    {\"Name\": \"Alice\", \"Blood Type\": \"A\", \"Education Level\": \"High School\", \"Temperature\": 36.5, \"Age\": 25},\n",
        "    {\"Name\": \"Bob\", \"Blood Type\": \"B\", \"Education Level\": \"Bachelor's Degree\", \"Temperature\": 37.0, \"Age\": 30},\n",
        "    {\"Name\": \"Carol\", \"Blood Type\": \"AB\", \"Education Level\": \"Master's Degree\", \"Temperature\": 36.8, \"Age\": 22},\n",
        "    {\"Name\": \"David\", \"Blood Type\": \"O\", \"Education Level\": \"PhD\", \"Temperature\": 37.2, \"Age\": 28},\n",
        "]\n",
        "\n",
        "classification = {\n",
        "    \"Blood Type\": \"Nominal\",\n",
        "    \"Education Level\": \"Ordinal\",\n",
        "    \"Temperature\": \"Interval\",\n",
        "    \"Age\": \"Ratio\"\n",
        "}\n",
        "\n",
        "print(\"Dataset:\")\n",
        "for entry in dataset:\n",
        "    print(entry)\n",
        "\n",
        "print(\"\\nClassification of Data Types:\")\n",
        "for variable, data_type in classification.items():\n",
        "    print(f\"{variable}: {data_type}\")\n"
      ],
      "metadata": {
        "colab": {
          "base_uri": "https://localhost:8080/"
        },
        "id": "3MA2NqmwTZZ-",
        "outputId": "15f06563-f35e-454b-e297-eb65adca6816"
      },
      "execution_count": 3,
      "outputs": [
        {
          "output_type": "stream",
          "name": "stdout",
          "text": [
            "Dataset:\n",
            "{'Name': 'Alice', 'Blood Type': 'A', 'Education Level': 'High School', 'Temperature': 36.5, 'Age': 25}\n",
            "{'Name': 'Bob', 'Blood Type': 'B', 'Education Level': \"Bachelor's Degree\", 'Temperature': 37.0, 'Age': 30}\n",
            "{'Name': 'Carol', 'Blood Type': 'AB', 'Education Level': \"Master's Degree\", 'Temperature': 36.8, 'Age': 22}\n",
            "{'Name': 'David', 'Blood Type': 'O', 'Education Level': 'PhD', 'Temperature': 37.2, 'Age': 28}\n",
            "\n",
            "Classification of Data Types:\n",
            "Blood Type: Nominal\n",
            "Education Level: Ordinal\n",
            "Temperature: Interval\n",
            "Age: Ratio\n"
          ]
        }
      ]
    },
    {
      "cell_type": "markdown",
      "source": [
        "**4. Implement sampling techniques like random sampling and stratified sampling.**"
      ],
      "metadata": {
        "id": "s8APwXW2T4Z0"
      }
    },
    {
      "cell_type": "markdown",
      "source": [
        " **1. Random Sampling**"
      ],
      "metadata": {
        "id": "CWgjJR62UPqg"
      }
    },
    {
      "cell_type": "code",
      "source": [
        "import random\n",
        "\n",
        "population = ['Alice', 'Bob', 'Carol', 'David', 'Eve', 'Frank', 'Grace', 'Heidi', 'Ivan', 'Judy']\n",
        "\n",
        "sample_size = 4\n",
        "random_sample = random.sample(population, sample_size)\n",
        "\n",
        "print(\"Random Sample:\")\n",
        "print(random_sample)\n"
      ],
      "metadata": {
        "colab": {
          "base_uri": "https://localhost:8080/"
        },
        "id": "kyvA2JxzT8-0",
        "outputId": "fad582be-5952-4ff1-ad2f-2ecc08ce572c"
      },
      "execution_count": 4,
      "outputs": [
        {
          "output_type": "stream",
          "name": "stdout",
          "text": [
            "Random Sample:\n",
            "['Ivan', 'Eve', 'Alice', 'Frank']\n"
          ]
        }
      ]
    },
    {
      "cell_type": "markdown",
      "source": [
        "**2.Stratified Sampling**"
      ],
      "metadata": {
        "id": "ruDeyUUAUUqi"
      }
    },
    {
      "cell_type": "code",
      "source": [
        "import pandas as pd\n",
        "\n",
        "data = {\n",
        "    'Name': ['Alice', 'Bob', 'Carol', 'David', 'Eve', 'Frank', 'Grace', 'Heidi'],\n",
        "    'Group': ['A', 'A', 'B', 'B', 'A', 'B', 'A', 'B']\n",
        "}\n",
        "df = pd.DataFrame(data)\n",
        "\n",
        "stratified_sample = df.groupby('Group', group_keys=False).apply(lambda x: x.sample(1))\n",
        "\n",
        "print(\"\\nStratified Sample:\")\n",
        "print(stratified_sample)\n"
      ],
      "metadata": {
        "id": "o3C0bFigUOG1"
      },
      "execution_count": null,
      "outputs": []
    },
    {
      "cell_type": "markdown",
      "source": [
        "**5. Write a Python function to calculate the range of a dataset.**"
      ],
      "metadata": {
        "id": "4lEHjEc-UpTA"
      }
    },
    {
      "cell_type": "code",
      "source": [
        "def calculate_range(data):\n",
        "    if not data:\n",
        "        return None  # Handle empty list\n",
        "    return max(data) - min(data)\n",
        "\n",
        "# Example usage\n",
        "dataset = [4, 1, 7, 5, 3, 9, 2]\n",
        "data_range = calculate_range(dataset)\n",
        "\n",
        "print(f\"The range of the dataset is: {data_range}\")\n"
      ],
      "metadata": {
        "colab": {
          "base_uri": "https://localhost:8080/"
        },
        "id": "a_mJ8GTeUwQl",
        "outputId": "9e8be1da-43f5-4fc6-aa25-b0918d1342b2"
      },
      "execution_count": 7,
      "outputs": [
        {
          "output_type": "stream",
          "name": "stdout",
          "text": [
            "The range of the dataset is: 8\n"
          ]
        }
      ]
    },
    {
      "cell_type": "markdown",
      "source": [
        "**6. Create a dataset and plot its histogram to visualize skewness.**"
      ],
      "metadata": {
        "id": "MOJ37JOwU1io"
      }
    },
    {
      "cell_type": "code",
      "source": [
        "import numpy as np\n",
        "import matplotlib.pyplot as plt\n",
        "\n",
        "# Create a positively skewed dataset using exponential distribution\n",
        "data = np.random.exponential(scale=2.0, size=1000)\n",
        "\n",
        "# Plot histogram\n",
        "plt.hist(data, bins=30, color='skyblue', edgecolor='black')\n",
        "plt.title(\"Histogram to Visualize Skewness\")\n",
        "plt.xlabel(\"Value\")\n",
        "plt.ylabel(\"Frequency\")\n",
        "plt.grid(True)\n",
        "plt.show()\n"
      ],
      "metadata": {
        "colab": {
          "base_uri": "https://localhost:8080/",
          "height": 472
        },
        "id": "llnHe3mdU6CC",
        "outputId": "b4dba78c-fd72-4531-ba5a-f4401db45354"
      },
      "execution_count": 8,
      "outputs": [
        {
          "output_type": "display_data",
          "data": {
            "text/plain": [
              "<Figure size 640x480 with 1 Axes>"
            ],
            "image/png": "[encoded data removed]"
          },
          "metadata": {}
        }
      ]
    },
    {
      "cell_type": "markdown",
      "source": [
        "**7.Calculate skewness and kurtosis of a dataset using Python libraries.**"
      ],
      "metadata": {
        "id": "KUTn6X2-VAG4"
      }
    },
    {
      "cell_type": "code",
      "source": [
        "import numpy as np\n",
        "from scipy.stats import skew, kurtosis\n",
        "\n",
        "# Create a sample dataset (e.g., normal distribution)\n",
        "data = np.random.normal(loc=0, scale=1, size=1000)\n",
        "\n",
        "# Calculate skewness\n",
        "data_skewness = skew(data)\n",
        "\n",
        "# Calculate kurtosis\n",
        "data_kurtosis = kurtosis(data)  # By default, this gives excess kurtosis\n",
        "\n",
        "print(f\"Skewness: {data_skewness}\")\n",
        "print(f\"Kurtosis: {data_kurtosis}\")\n"
      ],
      "metadata": {
        "colab": {
          "base_uri": "https://localhost:8080/"
        },
        "id": "LXWDGR9fVEZy",
        "outputId": "ce661578-3713-4bfc-eaca-e19ffafffe04"
      },
      "execution_count": 9,
      "outputs": [
        {
          "output_type": "stream",
          "name": "stdout",
          "text": [
            "Skewness: 0.055527269379696195\n",
            "Kurtosis: -0.05274280929322739\n"
          ]
        }
      ]
    },
    {
      "cell_type": "markdown",
      "source": [
        "**8.Generate a dataset and demonstrate positive and negative skewness.**"
      ],
      "metadata": {
        "id": "C34sEcWEVKUG"
      }
    },
    {
      "cell_type": "code",
      "source": [
        "import numpy as np\n",
        "import matplotlib.pyplot as plt\n",
        "from scipy.stats import skew\n",
        "\n",
        "# Generate positively skewed data (long tail on the right)\n",
        "positive_skew_data = np.random.exponential(scale=2.0, size=1000)\n",
        "\n",
        "# Generate negatively skewed data (long tail on the left)\n",
        "negative_skew_data = -np.random.exponential(scale=2.0, size=1000)\n",
        "\n",
        "# Calculate skewness\n",
        "pos_skew = skew(positive_skew_data)\n",
        "neg_skew = skew(negative_skew_data)\n",
        "\n",
        "# Plot both histograms\n",
        "fig, axes = plt.subplots(1, 2, figsize=(12, 5))\n",
        "\n",
        "# Positive skew\n",
        "axes[0].hist(positive_skew_data, bins=30, color='skyblue', edgecolor='black')\n",
        "axes[0].set_title(f'Positive Skew (Skewness = {pos_skew:.2f})')\n",
        "axes[0].set_xlabel(\"Value\")\n",
        "axes[0].set_ylabel(\"Frequency\")\n",
        "\n",
        "# Negative skew\n",
        "axes[1].hist(negative_skew_data, bins=30, color='salmon', edgecolor='black')\n",
        "axes[1].set_title(f'Negative Skew (Skewness = {neg_skew:.2f})')\n",
        "axes[1].set_xlabel(\"Value\")\n",
        "axes[1].set_ylabel(\"Frequency\")\n",
        "\n",
        "plt.tight_layout()\n",
        "plt.show()\n"
      ],
      "metadata": {
        "colab": {
          "base_uri": "https://localhost:8080/",
          "height": 507
        },
        "id": "b9aZVUFlVOuS",
        "outputId": "fb9b5169-6190-4c03-91d7-0e1761120ba8"
      },
      "execution_count": 10,
      "outputs": [
        {
          "output_type": "display_data",
          "data": {
            "text/plain": [
              "<Figure size 1200x500 with 2 Axes>"
            ],
            "image/png": "[encoded data removed]"
          },
          "metadata": {}
        }
      ]
    },
    {
      "cell_type": "markdown",
      "source": [
        "**9. Write a Python script to calculate covariance between two datasets.**"
      ],
      "metadata": {
        "id": "T3-cmq53VWaj"
      }
    },
    {
      "cell_type": "code",
      "source": [
        "import numpy as np\n",
        "\n",
        "# Example datasets\n",
        "x = [2, 4, 6, 8, 10]\n",
        "y = [1, 3, 5, 7, 9]\n",
        "\n",
        "# ✅ Method 1: Manual calculation\n",
        "def calculate_covariance(x, y):\n",
        "    if len(x) != len(y):\n",
        "        raise ValueError(\"Datasets must be of the same length\")\n",
        "\n",
        "    mean_x = sum(x) / len(x)\n",
        "    mean_y = sum(y) / len(y)\n",
        "\n",
        "    covariance = sum((xi - mean_x) * (yi - mean_y) for xi, yi in zip(x, y)) / (len(x) - 1)\n",
        "    return covariance\n",
        "\n",
        "# ✅ Method 2: Using NumPy\n",
        "cov_matrix = np.cov(x, y)\n",
        "cov_numpy = cov_matrix[0][1]  # Covariance between x and y\n",
        "\n",
        "# Results\n",
        "print(\"Covariance (manual):\", calculate_covariance(x, y))\n",
        "print(\"Covariance (NumPy):\", cov_numpy)\n",
        "\n"
      ],
      "metadata": {
        "colab": {
          "base_uri": "https://localhost:8080/"
        },
        "id": "AU7E1ZHCVZeV",
        "outputId": "b14f8772-26c8-4859-aadf-4fffae393fa3"
      },
      "execution_count": 11,
      "outputs": [
        {
          "output_type": "stream",
          "name": "stdout",
          "text": [
            "Covariance (manual): 10.0\n",
            "Covariance (NumPy): 10.0\n"
          ]
        }
      ]
    },
    {
      "cell_type": "markdown",
      "source": [
        "**10. Write a Python script to calculate the correlation coefficient between two datasets.**"
      ],
      "metadata": {
        "id": "86d5NkXRVhE5"
      }
    },
    {
      "cell_type": "code",
      "source": [
        "import numpy as np\n",
        "\n",
        "# Example datasets\n",
        "x = [2, 4, 6, 8, 10]\n",
        "y = [1, 3, 5, 7, 9]\n",
        "\n",
        "# ✅ Method 1: Manual calculation (Pearson correlation coefficient)\n",
        "def calculate_correlation(x, y):\n",
        "    if len(x) != len(y):\n",
        "        raise ValueError(\"Datasets must be of the same length\")\n",
        "\n",
        "    mean_x = sum(x) / len(x)\n",
        "    mean_y = sum(y) / len(y)\n",
        "\n",
        "    numerator = sum((xi - mean_x) * (yi - mean_y) for xi, yi in zip(x, y))\n",
        "    denominator = (sum((xi - mean_x)**2 for xi in x) * sum((yi - mean_y)**2 for yi in y)) ** 0.5\n",
        "\n",
        "    return numerator / denominator\n",
        "\n",
        "# ✅ Method 2: Using NumPy\n",
        "corr_matrix = np.corrcoef(x, y)\n",
        "corr_numpy = corr_matrix[0][1]  # Correlation coefficient between x and y\n",
        "\n",
        "# Results\n",
        "print(\"Correlation Coefficient (manual):\", calculate_correlation(x, y))\n",
        "print(\"Correlation Coefficient (NumPy):\", corr_numpy)\n"
      ],
      "metadata": {
        "colab": {
          "base_uri": "https://localhost:8080/"
        },
        "id": "j8M4acnDVlYh",
        "outputId": "d35279bc-a5e6-4752-f66d-cb190340b0dd"
      },
      "execution_count": 12,
      "outputs": [
        {
          "output_type": "stream",
          "name": "stdout",
          "text": [
            "Correlation Coefficient (manual): 1.0\n",
            "Correlation Coefficient (NumPy): 0.9999999999999999\n"
          ]
        }
      ]
    },
    {
      "cell_type": "markdown",
      "source": [
        "**11.Create a scatter plot to visualize the relationship between two variables.**"
      ],
      "metadata": {
        "id": "WpbVZzkjVuC5"
      }
    },
    {
      "cell_type": "code",
      "source": [
        "import matplotlib.pyplot as plt\n",
        "\n",
        "# Example datasets (X and Y)\n",
        "x = [2, 4, 6, 8, 10]\n",
        "y = [1, 3, 5, 7, 9]\n",
        "\n",
        "# Create scatter plot\n",
        "plt.scatter(x, y, color='blue', marker='o')\n",
        "plt.title(\"Scatter Plot of X vs Y\")\n",
        "plt.xlabel(\"X values\")\n",
        "plt.ylabel(\"Y values\")\n",
        "plt.grid(True)\n",
        "plt.show()\n"
      ],
      "metadata": {
        "colab": {
          "base_uri": "https://localhost:8080/",
          "height": 472
        },
        "id": "er7TaK17VxTR",
        "outputId": "03f5d9e8-1b16-4c41-b980-78078b7e9b11"
      },
      "execution_count": 13,
      "outputs": [
        {
          "output_type": "display_data",
          "data": {
            "text/plain": [
              "<Figure size 640x480 with 1 Axes>"
            ],
            "image/png": "[encoded data removed]"
          },
          "metadata": {}
        }
      ]
    },
    {
      "cell_type": "markdown",
      "source": [
        "**12. Implement and compare simple random sampling and systematic sampling.**"
      ],
      "metadata": {
        "id": "_NMPG90CV0iG"
      }
    },
    {
      "cell_type": "code",
      "source": [
        "import random\n",
        "\n",
        "# Step 1: Create a sample population\n",
        "population = list(range(1, 101))  # Population of 100 numbers (1 to 100)\n",
        "sample_size = 10\n",
        "\n",
        "# Step 2: Simple Random Sampling\n",
        "def simple_random_sampling(population, sample_size):\n",
        "    return random.sample(population, sample_size)\n",
        "\n",
        "# Step 3: Systematic Sampling\n",
        "def systematic_sampling(population, sample_size):\n",
        "    step = len(population) // sample_size\n",
        "    start = random.randint(0, step - 1)\n",
        "    return [population[i] for i in range(start, len(population), step)][:sample_size]\n",
        "\n",
        "# Run both sampling methods\n",
        "simple_random_sample = simple_random_sampling(population, sample_size)\n",
        "systematic_sample = systematic_sampling(population, sample_size)\n",
        "\n",
        "# Display results\n",
        "print(\"Simple Random Sample:\")\n",
        "print(simple_random_sample)\n",
        "\n",
        "print(\"\\nSystematic Sample:\")\n",
        "print(systematic_sample)\n"
      ],
      "metadata": {
        "colab": {
          "base_uri": "https://localhost:8080/"
        },
        "id": "oAEeg5BCV62e",
        "outputId": "ade0e5a9-d2a8-46d0-9c6c-b8487741b36f"
      },
      "execution_count": 14,
      "outputs": [
        {
          "output_type": "stream",
          "name": "stdout",
          "text": [
            "Simple Random Sample:\n",
            "[96, 100, 13, 6, 80, 90, 89, 52, 97, 21]\n",
            "\n",
            "Systematic Sample:\n",
            "[6, 16, 26, 36, 46, 56, 66, 76, 86, 96]\n"
          ]
        }
      ]
    },
    {
      "cell_type": "markdown",
      "source": [
        "**13.Calculate the mean, median, and mode of grouped data.**"
      ],
      "metadata": {
        "id": "pO7_V-U1WAis"
      }
    },
    {
      "cell_type": "code",
      "source": [
        "# Define class intervals and frequencies\n",
        "class_intervals = [(0, 10), (10, 20), (20, 30), (30, 40), (40, 50)]\n",
        "frequencies = [5, 8, 15, 16, 6]\n",
        "\n",
        "# Calculate midpoints for each class\n",
        "midpoints = [(lower + upper) / 2 for lower, upper in class_intervals]\n",
        "\n",
        "# Total frequency\n",
        "N = sum(frequencies)\n",
        "\n",
        "# 1. Mean = Σ(f * x) / Σf\n",
        "fx = [f * x for f, x in zip(frequencies, midpoints)]\n",
        "mean = sum(fx) / N\n",
        "\n",
        "# 2. Median\n",
        "# First find cumulative frequencies\n",
        "cumulative_freq = [sum(frequencies[:i+1]) for i in range(len(frequencies))]\n",
        "median_class_index = next(i for i, cf in enumerate(cumulative_freq) if cf >= N/2)\n",
        "\n",
        "L = class_intervals[median_class_index][0]        # lower boundary of median class\n",
        "F = cumulative_freq[median_class_index - 1] if median_class_index > 0 else 0\n",
        "f = frequencies[median_class_index]               # frequency of median class\n",
        "h = class_intervals[median_class_index][1] - class_intervals[median_class_index][0]  # class width\n",
        "\n",
        "median = L + ((N/2 - F) / f) * h\n",
        "\n",
        "# 3. Mode\n",
        "# Find modal class (class with highest frequency)\n",
        "modal_class_index = frequencies.index(max(frequencies))\n",
        "L_mode = class_intervals[modal_class_index][0]\n",
        "f1 = frequencies[modal_class_index]\n",
        "f0 = frequencies[modal_class_index - 1] if modal_class_index > 0 else 0\n",
        "f2 = frequencies[modal_class_index + 1] if modal_class_index < len(frequencies) - 1 else 0\n",
        "h_mode = class_intervals[modal_class_index][1] - class_intervals[modal_class_index][0]\n",
        "\n",
        "mode = L_mode + ((f1 - f0) / ((2 * f1) - f0 - f2)) * h_mode\n",
        "\n",
        "# Display results\n",
        "print(f\"Mean: {mean:.2f}\")\n",
        "print(f\"Median: {median:.2f}\")\n",
        "print(f\"Mode: {mode:.2f}\")\n"
      ],
      "metadata": {
        "colab": {
          "base_uri": "https://localhost:8080/"
        },
        "id": "1PXA4YDiWFOH",
        "outputId": "334bafd4-c2f3-4694-cb5a-2ea94db556ab"
      },
      "execution_count": 15,
      "outputs": [
        {
          "output_type": "stream",
          "name": "stdout",
          "text": [
            "Mean: 27.00\n",
            "Median: 28.00\n",
            "Mode: 30.91\n"
          ]
        }
      ]
    },
    {
      "cell_type": "markdown",
      "source": [
        "**14. Simulate data using Python and calculate its central tendency and dispersion.**"
      ],
      "metadata": {
        "id": "J4CDUBvpWL-N"
      }
    },
    {
      "cell_type": "code",
      "source": [
        "import numpy as np\n",
        "from scipy import stats\n",
        "\n",
        "# Step 1: Simulate data (normal distribution, mean=50, std=10, 1000 points)\n",
        "data = np.random.normal(loc=50, scale=10, size=1000)\n",
        "\n",
        "# Step 2: Central Tendency\n",
        "mean = np.mean(data)\n",
        "median = np.median(data)\n",
        "mode = stats.mode(data, keepdims=True).mode[0]  # mode returns the smallest value in normal dist\n",
        "\n",
        "# Step 3: Dispersion\n",
        "variance = np.var(data, ddof=1)  # Sample variance (ddof=1)\n",
        "std_dev = np.std(data, ddof=1)   # Sample std deviation\n",
        "data_range = np.max(data) - np.min(data)\n",
        "\n",
        "# Display results\n",
        "print(f\"Mean: {mean:.2f}\")\n",
        "print(f\"Median: {median:.2f}\")\n",
        "print(f\"Mode: {mode:.2f}\")\n",
        "print(f\"Variance: {variance:.2f}\")\n",
        "print(f\"Standard Deviation: {std_dev:.2f}\")\n",
        "print(f\"Range: {data_range:.2f}\")\n"
      ],
      "metadata": {
        "colab": {
          "base_uri": "https://localhost:8080/"
        },
        "id": "E0KkKgEMWSZz",
        "outputId": "c55fb0bc-fcdb-415a-bdca-ca87ae0b19b0"
      },
      "execution_count": 16,
      "outputs": [
        {
          "output_type": "stream",
          "name": "stdout",
          "text": [
            "Mean: 50.02\n",
            "Median: 49.69\n",
            "Mode: 14.16\n",
            "Variance: 105.21\n",
            "Standard Deviation: 10.26\n",
            "Range: 79.79\n"
          ]
        }
      ]
    },
    {
      "cell_type": "markdown",
      "source": [
        "**15.Use NumPy or pandas to summarize a dataset’s descriptive statistics.**"
      ],
      "metadata": {
        "id": "zADX1zbEWVBT"
      }
    },
    {
      "cell_type": "code",
      "source": [
        "import numpy as np\n",
        "\n",
        "# Sample dataset\n",
        "data = np.array([10, 15, 20, 25, 30, 35, 40, 45, 50])\n",
        "\n",
        "print(\"NumPy Descriptive Statistics:\")\n",
        "print(f\"Mean: {np.mean(data)}\")\n",
        "print(f\"Median: {np.median(data)}\")\n",
        "print(f\"Standard Deviation: {np.std(data, ddof=1)}\")\n",
        "print(f\"Variance: {np.var(data, ddof=1)}\")\n",
        "print(f\"Minimum: {np.min(data)}\")\n",
        "print(f\"Maximum: {np.max(data)}\")\n",
        "print(f\"25th percentile: {np.percentile(data, 25)}\")\n",
        "print(f\"50th percentile (Median): {np.percentile(data, 50)}\")\n",
        "print(f\"75th percentile: {np.percentile(data, 75)}\")\n"
      ],
      "metadata": {
        "colab": {
          "base_uri": "https://localhost:8080/"
        },
        "id": "wEGq95H8WbBG",
        "outputId": "19127305-2be7-425d-c1ce-16e949acf56d"
      },
      "execution_count": 17,
      "outputs": [
        {
          "output_type": "stream",
          "name": "stdout",
          "text": [
            "NumPy Descriptive Statistics:\n",
            "Mean: 30.0\n",
            "Median: 30.0\n",
            "Standard Deviation: 13.693063937629153\n",
            "Variance: 187.5\n",
            "Minimum: 10\n",
            "Maximum: 50\n",
            "25th percentile: 20.0\n",
            "50th percentile (Median): 30.0\n",
            "75th percentile: 40.0\n"
          ]
        }
      ]
    },
    {
      "cell_type": "markdown",
      "source": [
        "**16. Plot a boxplot to understand the spread and identify outliers.**"
      ],
      "metadata": {
        "id": "1iDKdtEIWejz"
      }
    },
    {
      "cell_type": "code",
      "source": [
        "import matplotlib.pyplot as plt\n",
        "import numpy as np\n",
        "\n",
        "# Simulate sample data with some outliers\n",
        "data = np.array([10, 15, 20, 25, 30, 35, 40, 45, 50, 100, 110])\n",
        "\n",
        "# Create boxplot\n",
        "plt.boxplot(data, vert=True, patch_artist=True, boxprops=dict(facecolor='lightblue'))\n",
        "plt.title(\"Boxplot to Visualize Spread and Outliers\")\n",
        "plt.ylabel(\"Values\")\n",
        "plt.grid(True)\n",
        "plt.show()\n"
      ],
      "metadata": {
        "colab": {
          "base_uri": "https://localhost:8080/",
          "height": 452
        },
        "id": "PmTxD653WkPs",
        "outputId": "2ea3d270-440d-4e19-c32e-fe7f73bb3086"
      },
      "execution_count": 18,
      "outputs": [
        {
          "output_type": "display_data",
          "data": {
            "text/plain": [
              "<Figure size 640x480 with 1 Axes>"
            ],
            "image/png": "[encoded data removed]"
          },
          "metadata": {}
        }
      ]
    },
    {
      "cell_type": "markdown",
      "source": [
        "**17.Calculate the interquartile range (IQR) of a dataset.**"
      ],
      "metadata": {
        "id": "E3cE-zdWWpEQ"
      }
    },
    {
      "cell_type": "code",
      "source": [
        "import numpy as np\n",
        "\n",
        "data = [10, 15, 20, 25, 30, 35, 40, 45, 50]\n",
        "\n",
        "Q1 = np.percentile(data, 25)  # 25th percentile\n",
        "Q3 = np.percentile(data, 75)  # 75th percentile\n",
        "\n",
        "IQR = Q3 - Q1\n",
        "\n",
        "print(f\"Q1 (25th percentile): {Q1}\")\n",
        "print(f\"Q3 (75th percentile): {Q3}\")\n",
        "print(f\"Interquartile Range (IQR): {IQR}\")\n"
      ],
      "metadata": {
        "colab": {
          "base_uri": "https://localhost:8080/"
        },
        "id": "KolKGX2WWt0J",
        "outputId": "2df1b2f9-ba49-4e7c-c11f-e45685c48e87"
      },
      "execution_count": 19,
      "outputs": [
        {
          "output_type": "stream",
          "name": "stdout",
          "text": [
            "Q1 (25th percentile): 20.0\n",
            "Q3 (75th percentile): 40.0\n",
            "Interquartile Range (IQR): 20.0\n"
          ]
        }
      ]
    },
    {
      "cell_type": "markdown",
      "source": [
        "**18. Implement Z-score normalization and explain its significance.**"
      ],
      "metadata": {
        "id": "8qEtMOVLWyLV"
      }
    },
    {
      "cell_type": "code",
      "source": [
        "import numpy as np\n",
        "\n",
        "data = np.array([10, 15, 20, 25, 30, 35, 40, 45, 50])\n",
        "\n",
        "mean = np.mean(data)\n",
        "std_dev = np.std(data)\n",
        "\n",
        "z_scores = (data - mean) / std_dev\n",
        "\n",
        "print(\"Original data:\", data)\n",
        "print(\"Mean:\", mean)\n",
        "print(\"Standard Deviation:\", std_dev)\n",
        "print(\"Z-score normalized data:\", z_scores)\n"
      ],
      "metadata": {
        "colab": {
          "base_uri": "https://localhost:8080/"
        },
        "id": "M7cSOE4oW2yZ",
        "outputId": "84c75b8f-d8e7-4291-c6b1-5b608016c2ec"
      },
      "execution_count": 20,
      "outputs": [
        {
          "output_type": "stream",
          "name": "stdout",
          "text": [
            "Original data: [10 15 20 25 30 35 40 45 50]\n",
            "Mean: 30.0\n",
            "Standard Deviation: 12.909944487358056\n",
            "Z-score normalized data: [-1.54919334 -1.161895   -0.77459667 -0.38729833  0.          0.38729833\n",
            "  0.77459667  1.161895    1.54919334]\n"
          ]
        }
      ]
    },
    {
      "cell_type": "markdown",
      "source": [
        "**19. Compare two datasets using their standard deviations.**"
      ],
      "metadata": {
        "id": "00aJsdwLW-S1"
      }
    },
    {
      "cell_type": "code",
      "source": [
        "import numpy as np\n",
        "\n",
        "# Dataset 1\n",
        "data1 = [10, 12, 14, 16, 18, 20]\n",
        "\n",
        "# Dataset 2\n",
        "data2 = [5, 10, 15, 20, 25, 30]\n",
        "\n",
        "# Calculate standard deviations (sample std dev with ddof=1)\n",
        "std_dev1 = np.std(data1, ddof=1)\n",
        "std_dev2 = np.std(data2, ddof=1)\n",
        "\n",
        "print(f\"Standard Deviation of Dataset 1: {std_dev1:.2f}\")\n",
        "print(f\"Standard Deviation of Dataset 2: {std_dev2:.2f}\")\n",
        "\n",
        "# Compare variability\n",
        "if std_dev1 > std_dev2:\n",
        "    print(\"Dataset 1 has greater variability.\")\n",
        "elif std_dev1 < std_dev2:\n",
        "    print(\"Dataset 2 has greater variability.\")\n",
        "else:\n",
        "    print(\"Both datasets have the same variability.\")\n"
      ],
      "metadata": {
        "colab": {
          "base_uri": "https://localhost:8080/"
        },
        "id": "X95c_BJ_XErZ",
        "outputId": "443a174c-7769-486e-a572-b92735a8aa42"
      },
      "execution_count": 21,
      "outputs": [
        {
          "output_type": "stream",
          "name": "stdout",
          "text": [
            "Standard Deviation of Dataset 1: 3.74\n",
            "Standard Deviation of Dataset 2: 9.35\n",
            "Dataset 2 has greater variability.\n"
          ]
        }
      ]
    },
    {
      "cell_type": "markdown",
      "source": [
        "**20. Write a Python program to visualize covariance using a heatmap.**"
      ],
      "metadata": {
        "id": "X37mVKnyXHze"
      }
    },
    {
      "cell_type": "code",
      "source": [
        "import numpy as np\n",
        "import seaborn as sns\n",
        "import matplotlib.pyplot as plt\n",
        "\n",
        "# Example datasets (columns represent variables)\n",
        "data = np.array([\n",
        "    [2, 5, 1],\n",
        "    [4, 6, 3],\n",
        "    [6, 7, 5],\n",
        "    [8, 8, 7],\n",
        "    [10, 9, 9]\n",
        "])\n",
        "\n",
        "# Calculate covariance matrix\n",
        "cov_matrix = np.cov(data, rowvar=False)\n",
        "\n",
        "# Plot heatmap\n",
        "sns.heatmap(cov_matrix, annot=True, fmt=\".2f\", cmap='coolwarm',\n",
        "            xticklabels=['Var1', 'Var2', 'Var3'], yticklabels=['Var1', 'Var2', 'Var3'])\n",
        "\n",
        "plt.title(\"Covariance Matrix Heatmap\")\n",
        "plt.show()\n"
      ],
      "metadata": {
        "colab": {
          "base_uri": "https://localhost:8080/",
          "height": 452
        },
        "id": "JbaYWQM5XMJ3",
        "outputId": "af98c60f-ac84-4187-a6d5-8374b0281abc"
      },
      "execution_count": 22,
      "outputs": [
        {
          "output_type": "display_data",
          "data": {
            "text/plain": [
              "<Figure size 640x480 with 2 Axes>"
            ],
            "image/png": "[encoded data removed]"
          },
          "metadata": {}
        }
      ]
    },
    {
      "cell_type": "markdown",
      "source": [
        "**21.Use seaborn to create a correlation matrix for a dataset.**"
      ],
      "metadata": {
        "id": "yyhigHBKXToL"
      }
    },
    {
      "cell_type": "code",
      "source": [
        "import seaborn as sns\n",
        "import pandas as pd\n",
        "import numpy as np\n",
        "import matplotlib.pyplot as plt\n",
        "\n",
        "# Create sample dataset as a pandas DataFrame\n",
        "data = pd.DataFrame({\n",
        "    'Math': [85, 78, 92, 88, 76],\n",
        "    'Physics': [90, 80, 95, 85, 75],\n",
        "    'Chemistry': [88, 76, 91, 89, 77],\n",
        "    'Biology': [82, 79, 90, 87, 74]\n",
        "})\n",
        "\n",
        "# Calculate correlation matrix\n",
        "corr_matrix = data.corr()\n",
        "\n",
        "# Plot correlation heatmap\n",
        "sns.heatmap(corr_matrix, annot=True, cmap='coolwarm', vmin=-1, vmax=1)\n",
        "plt.title(\"Correlation Matrix Heatmap\")\n",
        "plt.show()\n"
      ],
      "metadata": {
        "colab": {
          "base_uri": "https://localhost:8080/",
          "height": 452
        },
        "id": "JXzYaSCfXYWb",
        "outputId": "07d2f936-5d3b-461c-960d-e6421be8e26e"
      },
      "execution_count": 23,
      "outputs": [
        {
          "output_type": "display_data",
          "data": {
            "text/plain": [
              "<Figure size 640x480 with 2 Axes>"
            ],
            "image/png": "[encoded data removed]"
          },
          "metadata": {}
        }
      ]
    },
    {
      "cell_type": "markdown",
      "source": [
        "**22. Generate a dataset and implement both variance and standard deviation computations.**"
      ],
      "metadata": {
        "id": "FEZtBTwUXeNb"
      }
    },
    {
      "cell_type": "code",
      "source": [
        "import numpy as np\n",
        "\n",
        "# Step 1: Generate a random dataset (e.g., 20 data points from normal distribution)\n",
        "data = np.random.normal(loc=50, scale=5, size=20)\n",
        "print(\"Dataset:\", data)\n",
        "\n",
        "# Step 2: Calculate mean\n",
        "mean = np.mean(data)\n",
        "\n",
        "# Step 3: Calculate variance manually (sample variance, ddof=1)\n",
        "variance_manual = sum((x - mean) ** 2 for x in data) / (len(data) - 1)\n",
        "\n",
        "# Step 4: Calculate standard deviation manually\n",
        "std_dev_manual = variance_manual ** 0.5\n",
        "\n",
        "# Step 5: Calculate using NumPy functions\n",
        "variance_np = np.var(data, ddof=1)\n",
        "std_dev_np = np.std(data, ddof=1)\n",
        "\n",
        "# Display results\n",
        "print(f\"Manual Variance: {variance_manual:.4f}\")\n",
        "print(f\"NumPy Variance: {variance_np:.4f}\")\n",
        "print(f\"Manual Standard Deviation: {std_dev_manual:.4f}\")\n",
        "print(f\"NumPy Standard Deviation: {std_dev_np:.4f}\")\n"
      ],
      "metadata": {
        "colab": {
          "base_uri": "https://localhost:8080/"
        },
        "id": "M-p0wzXcX1A8",
        "outputId": "3f642945-b885-447e-f5e8-57a22cd0daa2"
      },
      "execution_count": 24,
      "outputs": [
        {
          "output_type": "stream",
          "name": "stdout",
          "text": [
            "Dataset: [53.49433816 48.30949647 40.29485859 52.56545973 54.9797713  53.11387302\n",
            " 48.03706438 59.07040608 51.84230832 56.38340149 52.35478036 42.93546682\n",
            " 56.88188806 51.37849786 52.1639803  48.33518501 54.08714511 51.70013287\n",
            " 56.0014572  46.70713763]\n",
            "Manual Variance: 21.6997\n",
            "NumPy Variance: 21.6997\n",
            "Manual Standard Deviation: 4.6583\n",
            "NumPy Standard Deviation: 4.6583\n"
          ]
        }
      ]
    },
    {
      "cell_type": "markdown",
      "source": [
        "**23. Visualize skewness and kurtosis using Python libraries like matplotlib or seaborn.**"
      ],
      "metadata": {
        "id": "nf_5KE5LX5SR"
      }
    },
    {
      "cell_type": "code",
      "source": [
        "import numpy as np\n",
        "import seaborn as sns\n",
        "import matplotlib.pyplot as plt\n",
        "from scipy.stats import skew, kurtosis\n",
        "\n",
        "\n",
        "data = np.random.gamma(shape=2, scale=2, size=1000)\n",
        "\n",
        "\n",
        "data_skewness = skew(data)\n",
        "data_kurtosis = kurtosis(data)\n",
        "\n",
        "\n",
        "plt.figure(figsize=(10, 6))\n",
        "sns.histplot(data, kde=True, color='skyblue', bins=30)\n",
        "\n",
        "\n",
        "plt.title(f\"Distribution with Skewness = {data_skewness:.2f} and Kurtosis = {data_kurtosis:.2f}\")\n",
        "plt.xlabel(\"Data values\")\n",
        "plt.ylabel(\"Frequency\")\n",
        "\n",
        "plt.show()\n"
      ],
      "metadata": {
        "colab": {
          "base_uri": "https://localhost:8080/",
          "height": 564
        },
        "id": "bSq-Q5v5X-GX",
        "outputId": "add9e303-155b-4e84-85a9-8c3b9d225742"
      },
      "execution_count": 25,
      "outputs": [
        {
          "output_type": "display_data",
          "data": {
            "text/plain": [
              "<Figure size 1000x600 with 1 Axes>"
            ],
            "image/png": "[encoded data removed]"
          },
          "metadata": {}
        }
      ]
    },
    {
      "cell_type": "markdown",
      "source": [
        "**24. Implement the Pearson and Spearman correlation coefficients for a dataset.**"
      ],
      "metadata": {
        "id": "FcSB3ik9YDoJ"
      }
    },
    {
      "cell_type": "code",
      "source": [
        "import numpy as np\n",
        "from scipy.stats import pearsonr, spearmanr\n",
        "\n",
        "# Example datasets\n",
        "x = np.array([10, 20, 30, 40, 50])\n",
        "y = np.array([12, 24, 33, 37, 52])\n",
        "\n",
        "# Calculate Pearson correlation coefficient and p-value\n",
        "pearson_corr, pearson_p = pearsonr(x, y)\n",
        "\n",
        "# Calculate Spearman correlation coefficient and p-value\n",
        "spearman_corr, spearman_p = spearmanr(x, y)\n",
        "\n",
        "print(f\"Pearson Correlation: {pearson_corr:.3f}, p-value: {pearson_p:.3f}\")\n",
        "print(f\"Spearman Correlation: {spearman_corr:.3f}, p-value: {spearman_p:.3f}\")\n"
      ],
      "metadata": {
        "colab": {
          "base_uri": "https://localhost:8080/"
        },
        "id": "qnTZ1DECYJEw",
        "outputId": "71e98a1b-b7e5-466b-a522-eae80415dd92"
      },
      "execution_count": 26,
      "outputs": [
        {
          "output_type": "stream",
          "name": "stdout",
          "text": [
            "Pearson Correlation: 0.986, p-value: 0.002\n",
            "Spearman Correlation: 1.000, p-value: 0.000\n"
          ]
        }
      ]
    }
  ]
}